{
 "cells": [
  {
   "cell_type": "code",
   "execution_count": 11,
   "metadata": {},
   "outputs": [
    {
     "ename": "ModuleNotFoundError",
     "evalue": "No module named 'keras'",
     "output_type": "error",
     "traceback": [
      "\u001b[1;31m---------------------------------------------------------------------------\u001b[0m",
      "\u001b[1;31mModuleNotFoundError\u001b[0m                       Traceback (most recent call last)",
      "\u001b[1;32m<ipython-input-11-631195ab8a3a>\u001b[0m in \u001b[0;36m<module>\u001b[1;34m\u001b[0m\n\u001b[0;32m      4\u001b[0m \u001b[0mget_ipython\u001b[0m\u001b[1;33m(\u001b[0m\u001b[1;33m)\u001b[0m\u001b[1;33m.\u001b[0m\u001b[0mrun_line_magic\u001b[0m\u001b[1;33m(\u001b[0m\u001b[1;34m'matplotlib'\u001b[0m\u001b[1;33m,\u001b[0m \u001b[1;34m'inline'\u001b[0m\u001b[1;33m)\u001b[0m\u001b[1;33m\u001b[0m\u001b[1;33m\u001b[0m\u001b[0m\n\u001b[0;32m      5\u001b[0m \u001b[1;32mfrom\u001b[0m \u001b[0msklearn\u001b[0m\u001b[1;33m.\u001b[0m\u001b[0mpreprocessing\u001b[0m \u001b[1;32mimport\u001b[0m \u001b[0mMinMaxScaler\u001b[0m\u001b[1;33m\u001b[0m\u001b[1;33m\u001b[0m\u001b[0m\n\u001b[1;32m----> 6\u001b[1;33m \u001b[1;32mfrom\u001b[0m \u001b[0mkeras\u001b[0m\u001b[1;33m.\u001b[0m\u001b[0mmodels\u001b[0m \u001b[1;32mimport\u001b[0m \u001b[0mSequential\u001b[0m\u001b[1;33m\u001b[0m\u001b[1;33m\u001b[0m\u001b[0m\n\u001b[0m\u001b[0;32m      7\u001b[0m \u001b[1;32mfrom\u001b[0m \u001b[0mkeras\u001b[0m\u001b[1;33m.\u001b[0m\u001b[0mlayers\u001b[0m \u001b[1;32mimport\u001b[0m \u001b[0mDense\u001b[0m\u001b[1;33m\u001b[0m\u001b[1;33m\u001b[0m\u001b[0m\n\u001b[0;32m      8\u001b[0m \u001b[1;32mfrom\u001b[0m \u001b[0mkeras\u001b[0m\u001b[1;33m.\u001b[0m\u001b[0mlayers\u001b[0m \u001b[1;32mimport\u001b[0m \u001b[0mLSTM\u001b[0m\u001b[1;33m\u001b[0m\u001b[1;33m\u001b[0m\u001b[0m\n",
      "\u001b[1;31mModuleNotFoundError\u001b[0m: No module named 'keras'"
     ]
    }
   ],
   "source": [
    "import numpy as np\n",
    "import matplotlib.pyplot as plt\n",
    "import h5py\n",
    "%matplotlib inline\n",
    "from sklearn.preprocessing import MinMaxScaler\n",
    "from keras.models import Sequential\n",
    "from keras.layers import Dense\n",
    "from keras.layers import LSTM\n",
    "from keras.layers import Dropout"
   ]
  },
  {
   "cell_type": "code",
   "execution_count": null,
   "metadata": {},
   "outputs": [],
   "source": [
    "file = h5py.File('Fort.mat', 'r')\n",
    "data = file.get('Fort')\n",
    "Fort = np.array(data)\n",
    "F = Fort\n",
    "scaler = MinMaxScaler(feature_range=(0, 1))\n",
    "F = scaler.fit_transform(F)\n",
    "F_tr = F[:150]\n",
    "F_test = F[144:]\n",
    "plt.figure(figsize = (10, 5))\n",
    "plt.plot(F, 'k')\n",
    "plt.plot(np.r_[:150],F_tr, 'b')\n",
    "plt.plot(np.r_[144:174],F_test, 'r')\n",
    "plt.show()"
   ]
  },
  {
   "cell_type": "code",
   "execution_count": null,
   "metadata": {},
   "outputs": [],
   "source": [
    "# Предобработка исходных данных в формат batches для обучения\\валидации\n",
    "from keras.preprocessing.sequence import TimeseriesGenerator\n",
    "data_gen = TimeseriesGenerator(F_tr, F_tr, length=6, sampling_rate=1, batch_size=150)\n",
    "batch_0 = data_gen[0]\n",
    "x, y = batch_0 # вход и обучающий выход для сети\n",
    "print(x.shape) # 144 точки обучения, прогноз 1 точки по 6 прошлым\n",
    "xx=np.reshape(x, (x.shape[0], 1, x.shape[1]))\n",
    "yy=y\n",
    "print(xx.shape) # меняем местами размерности\n",
    "print(yy.shape)"
   ]
  },
  {
   "cell_type": "code",
   "execution_count": null,
   "metadata": {},
   "outputs": [],
   "source": [
    "import keras\n",
    "import pydot\n",
    "from keras.utils.vis_utils import model_to_dot\n",
    "keras.utils.vis_utils.pydot = pydot"
   ]
  },
  {
   "cell_type": "code",
   "execution_count": null,
   "metadata": {},
   "outputs": [],
   "source": [
    "# Составляется сама модель прогнозной сети\n",
    "from keras.utils import plot_model\n",
    "model = Sequential() # слои соединены последовательно\n",
    "model.add(LSTM(units=20, input_shape=(1, 6))) # 20 нейронов\n",
    "model.add(Dense(units = 1)) # выход одномерный\n",
    "model.compile(optimizer = 'adam', loss = 'mean_squared_error')\n",
    "plot_model(model, to_file='model.png') # рисунок полученной сети"
   ]
  },
  {
   "cell_type": "code",
   "execution_count": null,
   "metadata": {},
   "outputs": [],
   "source": [
    "from keras.utils import plot_model\n",
    "model = Sequential()\n",
    "model.add(LSTM(units=20, return_sequences=True, input_shape=(1, 6)))\n",
    "model.add(Dropout(0.2))\n",
    "model.add(LSTM(units=20, return_sequences=True))\n",
    "model.add(Dropout(0.2))\n",
    "model.add(LSTM(units=20))\n",
    "model.add(Dense(units = 1))\n",
    "model.compile(optimizer = 'adam', loss = 'mean_squared_error')\n",
    "plot_model(model, to_file='model.png')"
   ]
  },
  {
   "cell_type": "code",
   "execution_count": null,
   "metadata": {},
   "outputs": [],
   "source": [
    "model.fit(xx, yy, epochs = 100) # 100 эпох по 144 точки"
   ]
  },
  {
   "cell_type": "code",
   "execution_count": 7,
   "metadata": {},
   "outputs": [
    {
     "ename": "NameError",
     "evalue": "name 'model' is not defined",
     "output_type": "error",
     "traceback": [
      "\u001b[1;31m---------------------------------------------------------------------------\u001b[0m",
      "\u001b[1;31mNameError\u001b[0m                                 Traceback (most recent call last)",
      "\u001b[1;32m<ipython-input-7-7076d5aa78a7>\u001b[0m in \u001b[0;36m<module>\u001b[1;34m\u001b[0m\n\u001b[1;32m----> 1\u001b[1;33m \u001b[0mtrainPredict\u001b[0m \u001b[1;33m=\u001b[0m \u001b[0mmodel\u001b[0m\u001b[1;33m.\u001b[0m\u001b[0mpredict\u001b[0m\u001b[1;33m(\u001b[0m\u001b[0mxx\u001b[0m\u001b[1;33m)\u001b[0m\u001b[1;33m\u001b[0m\u001b[1;33m\u001b[0m\u001b[0m\n\u001b[0m\u001b[0;32m      2\u001b[0m \u001b[0mtrainPredict\u001b[0m \u001b[1;33m=\u001b[0m \u001b[0mscaler\u001b[0m\u001b[1;33m.\u001b[0m\u001b[0minverse_transform\u001b[0m\u001b[1;33m(\u001b[0m\u001b[0mtrainPredict\u001b[0m\u001b[1;33m)\u001b[0m\u001b[1;33m\u001b[0m\u001b[1;33m\u001b[0m\u001b[0m\n\u001b[0;32m      3\u001b[0m \u001b[0mplt\u001b[0m\u001b[1;33m.\u001b[0m\u001b[0mfigure\u001b[0m\u001b[1;33m(\u001b[0m\u001b[0mfigsize\u001b[0m \u001b[1;33m=\u001b[0m \u001b[1;33m(\u001b[0m\u001b[1;36m10\u001b[0m\u001b[1;33m,\u001b[0m \u001b[1;36m5\u001b[0m\u001b[1;33m)\u001b[0m\u001b[1;33m)\u001b[0m\u001b[1;33m\u001b[0m\u001b[1;33m\u001b[0m\u001b[0m\n\u001b[0;32m      4\u001b[0m \u001b[0mplt\u001b[0m\u001b[1;33m.\u001b[0m\u001b[0mplot\u001b[0m\u001b[1;33m(\u001b[0m\u001b[0mFort\u001b[0m\u001b[1;33m,\u001b[0m \u001b[1;34m'k'\u001b[0m\u001b[1;33m)\u001b[0m\u001b[1;33m\u001b[0m\u001b[1;33m\u001b[0m\u001b[0m\n\u001b[0;32m      5\u001b[0m \u001b[0mplt\u001b[0m\u001b[1;33m.\u001b[0m\u001b[0mplot\u001b[0m\u001b[1;33m(\u001b[0m\u001b[0mnp\u001b[0m\u001b[1;33m.\u001b[0m\u001b[0mr_\u001b[0m\u001b[1;33m[\u001b[0m\u001b[1;36m6\u001b[0m\u001b[1;33m:\u001b[0m\u001b[1;36m150\u001b[0m\u001b[1;33m]\u001b[0m\u001b[1;33m,\u001b[0m\u001b[0mtrainPredict\u001b[0m\u001b[1;33m,\u001b[0m \u001b[1;34m'b'\u001b[0m\u001b[1;33m)\u001b[0m\u001b[1;33m\u001b[0m\u001b[1;33m\u001b[0m\u001b[0m\n",
      "\u001b[1;31mNameError\u001b[0m: name 'model' is not defined"
     ]
    }
   ],
   "source": [
    "trainPredict = model.predict(xx)\n",
    "trainPredict = scaler.inverse_transform(trainPredict)\n",
    "plt.figure(figsize = (10, 5))\n",
    "plt.plot(Fort, 'k')\n",
    "plt.plot(np.r_[6:150],trainPredict, 'b')\n",
    "plt.show()"
   ]
  },
  {
   "cell_type": "code",
   "execution_count": null,
   "metadata": {},
   "outputs": [],
   "source": [
    "data_gen = TimeseriesGenerator(F_test, F_test,\n",
    " length=6, sampling_rate=1,\n",
    " batch_size=150)\n",
    "batch_0 = data_gen[0]\n",
    "x, y = batch_0\n",
    "xx=np.reshape(x, (x.shape[0], 1, x.shape[1]))\n",
    "yy = y\n",
    "print(xx.shape) # прогноз на 24 точки по 6 наблюдениям\n",
    "print(yy.shape) #"
   ]
  },
  {
   "cell_type": "code",
   "execution_count": null,
   "metadata": {},
   "outputs": [],
   "source": [
    "testPredict = model.predict(xx)\n",
    "testPredict = scaler.inverse_transform(testPredict)\n",
    "plt.figure(figsize = (10, 5))\n",
    "plt.plot(Fort, 'k')\n",
    "plt.plot(np.r_[150:174],testPredict, 'b')\n",
    "plt.show()"
   ]
  },
  {
   "cell_type": "markdown",
   "metadata": {},
   "source": [
    "### Самостоятельный подбор"
   ]
  },
  {
   "cell_type": "code",
   "execution_count": null,
   "metadata": {},
   "outputs": [],
   "source": [
    "file = h5py.File('Fort.mat', 'r')\n",
    "data = file.get('Fort')\n",
    "Fort = np.array(data)\n",
    "F = Fort\n",
    "scaler = MinMaxScaler(feature_range=(0, 1))\n",
    "F = scaler.fit_transform(F)\n",
    "F_tr = F[:144]\n",
    "F_test = F[114:]\n",
    "plt.figure(figsize = (10, 5))\n",
    "plt.plot(F, 'k')\n",
    "plt.plot(np.r_[:144],F_tr, 'b')\n",
    "plt.plot(np.r_[114:174],F_test, 'r')\n",
    "plt.show()"
   ]
  },
  {
   "cell_type": "code",
   "execution_count": null,
   "metadata": {},
   "outputs": [],
   "source": [
    "from keras.preprocessing.sequence import TimeseriesGenerator\n",
    "data_gen = TimeseriesGenerator(F_tr, F_tr, length=30, sampling_rate=1, batch_size=144)\n",
    "batch_0 = data_gen[0]\n",
    "x, y = batch_0 # вход и обучающий выход для сети\n",
    "print(x.shape) # 114 точки обучения, прогноз 1 точки по 30 прошлым\n",
    "xx=np.reshape(x, (x.shape[0], 1, x.shape[1]))\n",
    "yy=y\n",
    "print(xx.shape) # меняем местами размерности\n",
    "print(yy.shape)"
   ]
  },
  {
   "cell_type": "code",
   "execution_count": null,
   "metadata": {},
   "outputs": [],
   "source": [
    "from keras.utils import plot_model\n",
    "model = Sequential()\n",
    "model.add(LSTM(units=30, return_sequences=True, input_shape=(1, 30)))\n",
    "model.add(Dropout(0.2))\n",
    "model.add(LSTM(units=30, return_sequences=True))\n",
    "model.add(Dropout(0.2))\n",
    "model.add(LSTM(units=30, return_sequences=True))\n",
    "model.add(Dropout(0.2))\n",
    "model.add(LSTM(units=30))\n",
    "model.add(Dense(units = 1))\n",
    "\n",
    "model.compile(optimizer = 'adam', loss = 'mean_squared_error')\n",
    "plot_model(model, to_file='model.png')"
   ]
  },
  {
   "cell_type": "code",
   "execution_count": null,
   "metadata": {},
   "outputs": [],
   "source": [
    "# 200 эпох по 114 точек обучения\n",
    "model.fit(xx, yy, epochs = 200)"
   ]
  },
  {
   "cell_type": "code",
   "execution_count": null,
   "metadata": {},
   "outputs": [],
   "source": [
    "trainPredict = model.predict(xx)\n",
    "trainPredict = scaler.inverse_transform(trainPredict)\n",
    "plt.figure(figsize = (10, 5))\n",
    "plt.plot(Fort, 'k')\n",
    "plt.plot(np.r_[30:144],trainPredict, 'b')\n",
    "plt.show()"
   ]
  },
  {
   "cell_type": "code",
   "execution_count": null,
   "metadata": {},
   "outputs": [],
   "source": [
    "data_gen = TimeseriesGenerator(F_test, F_test,\n",
    " length=30, sampling_rate=1,\n",
    " batch_size=144)\n",
    "batch_0 = data_gen[0]\n",
    "x, y = batch_0\n",
    "xx=np.reshape(x, (x.shape[0], 1, x.shape[1]))\n",
    "yy = y\n",
    "print(xx.shape) # прогноз на 30 точки по 30 наблюдениям\n",
    "print(yy.shape) #"
   ]
  },
  {
   "cell_type": "code",
   "execution_count": null,
   "metadata": {},
   "outputs": [],
   "source": [
    "testPredict = model.predict(xx)\n",
    "testPredict = scaler.inverse_transform(testPredict)\n",
    "plt.figure(figsize = (10, 5))\n",
    "plt.plot(Fort, 'k')\n",
    "plt.plot(np.r_[144:174],testPredict, 'b')\n",
    "plt.show()"
   ]
  },
  {
   "cell_type": "markdown",
   "metadata": {},
   "source": [
    "### Свой вариант:  ВР вида полином. тренд + 2 сезонный компоненты + шум"
   ]
  },
  {
   "cell_type": "code",
   "execution_count": null,
   "metadata": {},
   "outputs": [],
   "source": [
    "import numpy as np\n",
    "import numpy.random as rand\n",
    "import matplotlib.pyplot as plt\n",
    "import h5py\n",
    "%matplotlib inline\n",
    "\n",
    "N = 1024\n",
    "t = np.linspace(0, 1, N) \n",
    "b0 = 30     \n",
    "b1 = 20     \n",
    "b2 = 10     \n",
    "b3 = 5\n",
    "f1 = 10 \n",
    "f2 = 3*f1 \n",
    "F_TS =  b0 + b1 * t + b2 * t * t + b3 * t * t * t + np.sin(2 * np.pi * f1 * t) + np.sin(2 * np.pi * f2 * t) + 0.2 * rand.randn(len(t))"
   ]
  },
  {
   "cell_type": "code",
   "execution_count": null,
   "metadata": {},
   "outputs": [],
   "source": [
    "plt.figure(figsize=(10,5)) #plot size\n",
    "plt.plot(t,F_TS)"
   ]
  },
  {
   "cell_type": "code",
   "execution_count": null,
   "metadata": {},
   "outputs": [],
   "source": [
    "# Масштабирование\n",
    "scaler = MinMaxScaler(feature_range=(0, 1))\n",
    "F = scaler.fit_transform(F_TS.reshape(-1,1))\n",
    "F_tr = F[:700]\n",
    "F_test = F[600:]\n",
    "plt.figure(figsize = (10, 5))\n",
    "plt.plot(F, 'k')\n",
    "plt.plot(np.r_[:700],F_tr, 'b')\n",
    "plt.plot(np.r_[600:1024],F_test, 'r')\n",
    "plt.show()"
   ]
  },
  {
   "cell_type": "code",
   "execution_count": null,
   "metadata": {},
   "outputs": [],
   "source": [
    "from keras.preprocessing.sequence import TimeseriesGenerator\n",
    "data_gen = TimeseriesGenerator(F_tr, F_tr, length=100, sampling_rate=1, batch_size=700)\n",
    "batch_0 = data_gen[0]\n",
    "x, y = batch_0 # вход и обучающий выход для сети\n",
    "print(x.shape) # 600 точек обучения, прогноз 1 точки по 100 прошлым\n",
    "xx=np.reshape(x, (x.shape[0], 1, x.shape[1]))\n",
    "yy=y\n",
    "print(xx.shape) # меняем местами размерности\n",
    "print(yy.shape)"
   ]
  },
  {
   "cell_type": "code",
   "execution_count": null,
   "metadata": {},
   "outputs": [],
   "source": [
    "from keras.utils import plot_model\n",
    "model = Sequential()\n",
    "model.add(LSTM(units=20, return_sequences=True, input_shape=(1, 100)))\n",
    "model.add(Dropout(0.2))\n",
    "model.add(LSTM(units=20, return_sequences=True))\n",
    "model.add(Dropout(0.2))\n",
    "model.add(LSTM(units=20))\n",
    "model.add(Dense(units = 1))\n",
    "model.compile(optimizer = 'adam', loss = 'mean_squared_error')\n",
    "plot_model(model, to_file='model.png')"
   ]
  },
  {
   "cell_type": "code",
   "execution_count": null,
   "metadata": {},
   "outputs": [],
   "source": [
    "# 150 эпох по 600 точек\n",
    "model.fit(xx, yy, epochs = 150)"
   ]
  },
  {
   "cell_type": "code",
   "execution_count": null,
   "metadata": {},
   "outputs": [],
   "source": [
    "trainPredict = model.predict(xx)\n",
    "trainPredict = scaler.inverse_transform(trainPredict)\n",
    "plt.figure(figsize = (10, 5))\n",
    "plt.plot(F_TS, 'k')\n",
    "plt.plot(np.r_[100:700],trainPredict, 'b')\n",
    "plt.show()"
   ]
  },
  {
   "cell_type": "code",
   "execution_count": null,
   "metadata": {},
   "outputs": [],
   "source": [
    "scaler = MinMaxScaler(feature_range=(0, 1))\n",
    "F = scaler.fit_transform(F_TS.reshape(-1,1))\n",
    "F_tr = F[:700]\n",
    "F_test = F[600:]\n",
    "# plt.figure(figsize = (10, 5))\n",
    "# plt.plot(F, 'k')\n",
    "# plt.plot(np.r_[:700],F_tr, 'b')\n",
    "# plt.plot(np.r_[600:1024],F_test, 'r')\n",
    "# plt.show()\n",
    "\n",
    "\n",
    "data_gen = TimeseriesGenerator(F_test, F_test, length=100, sampling_rate=1, batch_size=700)\n",
    "batch_0 = data_gen[0]\n",
    "x, y = batch_0\n",
    "print(x.shape)\n",
    "xx=np.reshape(x, (x.shape[0], 1, x.shape[1]))\n",
    "yy = y\n",
    "print(xx.shape) # прогноз на 324 точки по 100 наблюдениям\n",
    "print(yy.shape) #"
   ]
  },
  {
   "cell_type": "code",
   "execution_count": null,
   "metadata": {},
   "outputs": [],
   "source": [
    "testPredict = model.predict(xx)\n",
    "testPredict = scaler.inverse_transform(testPredict)\n",
    "plt.figure(figsize = (10, 5))\n",
    "plt.plot(F_TS, 'k')\n",
    "plt.plot(np.r_[700:1024],testPredict, 'b')\n",
    "plt.show()"
   ]
  },
  {
   "cell_type": "markdown",
   "metadata": {},
   "source": [
    "### 50 нейронов, 50 точек"
   ]
  },
  {
   "cell_type": "code",
   "execution_count": null,
   "metadata": {},
   "outputs": [],
   "source": [
    "import numpy as np\n",
    "import numpy.random as rand\n",
    "import matplotlib.pyplot as plt\n",
    "import h5py\n",
    "%matplotlib inline\n",
    "N = 1024\n",
    "t = np.linspace(0, 1, N) \n",
    "b0 = 30     \n",
    "b1 = 20     \n",
    "b2 = 10     \n",
    "b3 = 5\n",
    "f1 = 10 \n",
    "f2 = 3*f1 \n",
    "F_2 =  b0 + b1 * t + b2 * t * t + b3 * t * t * t + np.sin(2 * np.pi * f1 * t) + np.sin(2 * np.pi * f2 * t) + 0.2 * rand.randn(len(t))\n",
    "plt.figure(figsize=(10,5)) #plot size\n",
    "plt.plot(t,F_2)"
   ]
  },
  {
   "cell_type": "code",
   "execution_count": null,
   "metadata": {},
   "outputs": [],
   "source": [
    "scaler = MinMaxScaler(feature_range=(0, 1))\n",
    "F = scaler.fit_transform(F_2.reshape(-1,1))\n",
    "F_tr = F[:900]\n",
    "F_test = F[850:]\n",
    "plt.figure(figsize = (10, 5))\n",
    "plt.plot(F, 'k')\n",
    "plt.plot(np.r_[:900],F_tr, 'b')\n",
    "plt.plot(np.r_[850:1024],F_test, 'r')\n",
    "plt.show()"
   ]
  },
  {
   "cell_type": "code",
   "execution_count": null,
   "metadata": {},
   "outputs": [],
   "source": [
    "from keras.preprocessing.sequence import TimeseriesGenerator\n",
    "data_gen = TimeseriesGenerator(F_tr, F_tr, length=50, sampling_rate=1, batch_size=900)\n",
    "batch_0 = data_gen[0]\n",
    "x, y = batch_0 # вход и обучающий выход для сети\n",
    "print(x.shape) # 850 точки обучения, прогноз 1 точки по 50 прошлым\n",
    "xx=np.reshape(x, (x.shape[0], 1, x.shape[1]))\n",
    "yy=y\n",
    "print(xx.shape) # меняем местами размерности\n",
    "print(yy.shape)"
   ]
  },
  {
   "cell_type": "code",
   "execution_count": null,
   "metadata": {},
   "outputs": [],
   "source": [
    "from keras.utils import plot_model\n",
    "model = Sequential()\n",
    "model.add(LSTM(units=35, return_sequences=True, input_shape=(1, 50)))\n",
    "model.add(Dropout(0.2))\n",
    "model.add(LSTM(units=35, return_sequences=True))\n",
    "model.add(Dropout(0.2))\n",
    "model.add(LSTM(units=35))\n",
    "model.add(Dense(units = 1))\n",
    "model.compile(optimizer = 'adam', loss = 'mean_squared_error')\n",
    "plot_model(model, to_file='model.png')"
   ]
  },
  {
   "cell_type": "code",
   "execution_count": null,
   "metadata": {},
   "outputs": [],
   "source": [
    "model.fit(xx, yy, epochs = 100)"
   ]
  },
  {
   "cell_type": "code",
   "execution_count": null,
   "metadata": {},
   "outputs": [],
   "source": [
    "trainPredict = model.predict(xx)\n",
    "trainPredict = scaler.inverse_transform(trainPredict)\n",
    "plt.figure(figsize = (10, 5))\n",
    "plt.plot(F_2, 'k')\n",
    "plt.plot(np.r_[50:900],trainPredict, 'b')\n",
    "plt.show()"
   ]
  },
  {
   "cell_type": "code",
   "execution_count": null,
   "metadata": {},
   "outputs": [],
   "source": [
    "data_gen = TimeseriesGenerator(F_test, F_test, length=50, sampling_rate=1, batch_size=900)\n",
    "batch_0 = data_gen[0]\n",
    "x, y = batch_0\n",
    "xx=np.reshape(x, (x.shape[0], 1, x.shape[1]))\n",
    "yy = y\n",
    "print(xx.shape) # прогноз на 124 точки по 50 наблюдениям\n",
    "print(yy.shape) #"
   ]
  },
  {
   "cell_type": "code",
   "execution_count": null,
   "metadata": {},
   "outputs": [],
   "source": [
    "testPredict = model.predict(xx)\n",
    "testPredict = scaler.inverse_transform(testPredict)\n",
    "plt.figure(figsize = (10, 5))\n",
    "plt.plot(F_2, 'k')\n",
    "plt.plot(np.r_[900:1024],testPredict, 'b')\n",
    "plt.show()"
   ]
  },
  {
   "cell_type": "code",
   "execution_count": null,
   "metadata": {},
   "outputs": [],
   "source": []
  }
 ],
 "metadata": {
  "kernelspec": {
   "display_name": "Python 3",
   "language": "python",
   "name": "python3"
  },
  "language_info": {
   "codemirror_mode": {
    "name": "ipython",
    "version": 3
   },
   "file_extension": ".py",
   "mimetype": "text/x-python",
   "name": "python",
   "nbconvert_exporter": "python",
   "pygments_lexer": "ipython3",
   "version": "3.7.1"
  }
 },
 "nbformat": 4,
 "nbformat_minor": 2
}
