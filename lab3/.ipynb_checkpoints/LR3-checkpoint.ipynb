{
 "cells": [
  {
   "cell_type": "markdown",
   "metadata": {},
   "source": [
    "# ПРОГНОЗИРОВАНИЕ ВРЕМЕННЫХ РЯДОВ НА ОСНОВЕ LSTM-СЕТЕЙ\n",
    "---\n",
    "Цыпаев Владимир, РИМ-281228"
   ]
  },
  {
   "cell_type": "code",
   "execution_count": 1,
   "metadata": {},
   "outputs": [
    {
     "ename": "ModuleNotFoundError",
     "evalue": "No module named 'keras'",
     "output_type": "error",
     "traceback": [
      "\u001b[1;31m---------------------------------------------------------------------------\u001b[0m",
      "\u001b[1;31mModuleNotFoundError\u001b[0m                       Traceback (most recent call last)",
      "\u001b[1;32m<ipython-input-1-70e34c3ca3ce>\u001b[0m in \u001b[0;36m<module>\u001b[1;34m\u001b[0m\n\u001b[0;32m      7\u001b[0m \u001b[1;33m\u001b[0m\u001b[0m\n\u001b[0;32m      8\u001b[0m \u001b[1;32mfrom\u001b[0m \u001b[0msklearn\u001b[0m\u001b[1;33m.\u001b[0m\u001b[0mpreprocessing\u001b[0m \u001b[1;32mimport\u001b[0m \u001b[0mMinMaxScaler\u001b[0m\u001b[1;33m\u001b[0m\u001b[1;33m\u001b[0m\u001b[0m\n\u001b[1;32m----> 9\u001b[1;33m \u001b[1;32mfrom\u001b[0m \u001b[0mkeras\u001b[0m\u001b[1;33m.\u001b[0m\u001b[0mmodels\u001b[0m \u001b[1;32mimport\u001b[0m \u001b[0mSequential\u001b[0m\u001b[1;33m\u001b[0m\u001b[1;33m\u001b[0m\u001b[0m\n\u001b[0m\u001b[0;32m     10\u001b[0m \u001b[1;32mfrom\u001b[0m \u001b[0mkeras\u001b[0m\u001b[1;33m.\u001b[0m\u001b[0mlayers\u001b[0m \u001b[1;32mimport\u001b[0m \u001b[0mDense\u001b[0m\u001b[1;33m\u001b[0m\u001b[1;33m\u001b[0m\u001b[0m\n\u001b[0;32m     11\u001b[0m \u001b[1;32mfrom\u001b[0m \u001b[0mkeras\u001b[0m\u001b[1;33m.\u001b[0m\u001b[0mlayers\u001b[0m \u001b[1;32mimport\u001b[0m \u001b[0mLSTM\u001b[0m\u001b[1;33m\u001b[0m\u001b[1;33m\u001b[0m\u001b[0m\n",
      "\u001b[1;31mModuleNotFoundError\u001b[0m: No module named 'keras'"
     ]
    }
   ],
   "source": [
    "import numpy as np\n",
    "import matplotlib.pyplot as plt\n",
    "import h5py\n",
    "%matplotlib inline\n",
    "%config InlineBackend.figure_format = 'retina'\n",
    "plt.rcParams['figure.figsize'] = (13,8)\n",
    "\n",
    "from sklearn.preprocessing import MinMaxScaler\n",
    "from keras.models import Sequential\n",
    "from keras.layers import Dense\n",
    "from keras.layers import LSTM\n",
    "from keras.layers import Dropout"
   ]
  },
  {
   "cell_type": "markdown",
   "metadata": {},
   "source": [
    "Change here params of model\n",
    "\n",
    "(число нейронов в слоях, общая структура, коэффициенты Dropout, число предыдущих точек для прогноза, число наблюдений для оубчения)"
   ]
  },
  {
   "cell_type": "code",
   "execution_count": null,
   "metadata": {},
   "outputs": [],
   "source": [
    "# Размер исходной функции\n",
    "FUNCTION_SIZE = len(F) # 174\n",
    "\n",
    "# Количество точек, которое предсказывает\n",
    "PREDICT_POINTS = 56 # min 24\n",
    "\n",
    "# По какому количеству точек предсказываем\n",
    "PAST_POINTS = 48\n",
    "# Размер тренировочных данных\n",
    "TRAINING_SIZE = FUNCTION_SIZE - PREDICT_POINTS\n",
    "NEURONS_IN_LAYERS = 44\n",
    "\n",
    "EPOCHS_COUNT = 97"
   ]
  },
  {
   "cell_type": "code",
   "execution_count": null,
   "metadata": {},
   "outputs": [],
   "source": [
    "# FORT\n",
    "file = h5py.File('Fort.mat', 'r') \n",
    "data = file.get('Fort')\n",
    "Fort = np.array(data)\n",
    "\n",
    "F = Fort\n",
    "scaler = MinMaxScaler(feature_range=(0, 1)) \n",
    "\n",
    "F = scaler.fit_transform(F)\n",
    "F_tr = F[:TRAINING_SIZE]\n",
    "F_test = F[TRAINING_SIZE-PAST_POINTS:]\n",
    "\n",
    "plt.figure(figsize = (10, 5))\n",
    "plt.plot(F, 'k') \n",
    "plt.plot(np.r_[:TRAINING_SIZE],F_tr, 'b') \n",
    "plt.plot(np.r_[TRAINING_SIZE-PAST_POINTS:FUNCTION_SIZE],F_test, 'r') \n",
    "plt.show()"
   ]
  },
  {
   "cell_type": "code",
   "execution_count": null,
   "metadata": {},
   "outputs": [],
   "source": [
    "# VARIK\n",
    "def create_linspace(start, stop, nsamples):\n",
    "    return np.linspace(start, stop, num = nsamples)\n",
    "\n",
    "t = create_linspace(0, 1, 1024)\n",
    "\n",
    "f1 = 10\n",
    "f2 = 20\n",
    "f3 = 60\n",
    "\n",
    "component1 = np.sin(2*np.pi*f1*t)\n",
    "component2 = np.sin(2*np.pi*f2*t)\n",
    "component3 = np.sin(2*np.pi*f3*t)\n",
    "trend = 2*t + 0.1\n",
    "\n",
    "F = component1 + component2 + component3 + trend\n",
    "\n",
    "F_tr = F[:TRAINING_SIZE]\n",
    "F_test = F[TRAINING_SIZE-PAST_POINTS:]\n",
    "\n",
    "plt.figure(figsize = (10, 5))\n",
    "plt.plot(F, 'k') \n",
    "plt.plot(np.r_[:TRAINING_SIZE],F_tr, 'b') \n",
    "plt.plot(np.r_[TRAINING_SIZE-PAST_POINTS:FUNCTION_SIZE],F_test, 'r') \n",
    "plt.show()"
   ]
  },
  {
   "cell_type": "code",
   "execution_count": null,
   "metadata": {},
   "outputs": [],
   "source": [
    "from keras.preprocessing.sequence import TimeseriesGenerator \n",
    "data_gen = TimeseriesGenerator(F_tr, F_tr, length=PAST_POINTS, sampling_rate=1, batch_size=TRAINING_SIZE)\n",
    "batch_0 = data_gen[0]\n",
    "x, y = batch_0 # вход и обучающий выход для сети\n",
    "print(x.shape) # 144 точки обучения, прогноз 1 точки по 6 прошлым\n",
    "xx=np.reshape(x, (x.shape[0], 1, x.shape[1]))\n",
    "yy=y\n",
    "print(xx.shape) #меняемместамиразмерности\n",
    "print(yy.shape) #"
   ]
  },
  {
   "cell_type": "code",
   "execution_count": null,
   "metadata": {},
   "outputs": [],
   "source": [
    "import keras\n",
    "from IPython.display import SVG\n",
    "from keras.utils import plot_model\n",
    "import pydot as pyd\n",
    "from keras.utils.vis_utils import model_to_dot\n",
    "keras.utils.vis_utils.pydot = pyd\n",
    "\n",
    "def visualize_model(model):\n",
    "  return SVG(model_to_dot(model).create(prog='dot', format='svg'))\n",
    "\n",
    "model = Sequential()\n",
    "model.add(LSTM(units=NEURONS_IN_LAYERS, return_sequences=True, input_shape=(1, PAST_POINTS))) \n",
    "model.add(Dropout(0.2))\n",
    "model.add(LSTM(units=NEURONS_IN_LAYERS, return_sequences=True)) \n",
    "model.add(Dropout(0.2))\n",
    "model.add(LSTM(units=NEURONS_IN_LAYERS))\n",
    "model.add(Dense(units = 1))\n",
    "model.compile(optimizer = 'adam', loss = 'mean_squared_error')\n",
    "\n",
    "visualize_model(model)"
   ]
  },
  {
   "cell_type": "code",
   "execution_count": null,
   "metadata": {
    "jupyter": {
     "outputs_hidden": true
    }
   },
   "outputs": [],
   "source": [
    "model.fit(xx, yy, epochs = EPOCHS_COUNT) # 100 эпох по 144 точки"
   ]
  },
  {
   "cell_type": "code",
   "execution_count": null,
   "metadata": {},
   "outputs": [],
   "source": [
    "# VARIK\n",
    "trainPredict = model.predict(xx)\n",
    "# trainPredict = scaler.inverse_transform(trainPredict) \n",
    "plt.figure(figsize = (10, 5))\n",
    "plt.plot(F, 'k')\n",
    "plt.plot(np.r_[PAST_POINTS:TRAINING_SIZE],trainPredict, 'b')\n",
    "plt.show()"
   ]
  },
  {
   "cell_type": "code",
   "execution_count": null,
   "metadata": {},
   "outputs": [],
   "source": [
    "# FORT\n",
    "trainPredict = model.predict(xx)\n",
    "trainPredict = scaler.inverse_transform(trainPredict) \n",
    "plt.figure(figsize = (10, 5))\n",
    "plt.plot(Fort, 'k')\n",
    "plt.plot(np.r_[PAST_POINTS:TRAINING_SIZE],trainPredict, 'b')\n",
    "plt.show()"
   ]
  },
  {
   "cell_type": "code",
   "execution_count": null,
   "metadata": {},
   "outputs": [],
   "source": [
    "data_gen = TimeseriesGenerator(F_test, F_test, length=PAST_POINTS, sampling_rate=1, batch_size=TRAINING_SIZE)\n",
    "batch_0 = data_gen[0]\n",
    "x, y = batch_0\n",
    "xx=np.reshape(x, (x.shape[0], 1, x.shape[1]))\n",
    "yy = y\n",
    "print(xx.shape) # прогноз на 24 точки по 6 наблюдениям print(yy.shape) #"
   ]
  },
  {
   "cell_type": "code",
   "execution_count": null,
   "metadata": {},
   "outputs": [],
   "source": [
    "# VARIK\n",
    "testPredict = model.predict(xx)\n",
    "# testPredict = scaler.inverse_transform(testPredict)\n",
    "plt.figure(figsize = (10, 5))\n",
    "plt.plot(F, 'k') \n",
    "plt.plot(np.r_[TRAINING_SIZE:TRAINING_SIZE + PREDICT_POINTS],testPredict, 'b')\n",
    "plt.show()"
   ]
  },
  {
   "cell_type": "code",
   "execution_count": null,
   "metadata": {},
   "outputs": [],
   "source": [
    "# FORT\n",
    "testPredict = model.predict(xx)\n",
    "testPredict = scaler.inverse_transform(testPredict)\n",
    "plt.figure(figsize = (10, 5))\n",
    "plt.plot(Fort, 'k') \n",
    "plt.plot(np.r_[TRAINING_SIZE:TRAINING_SIZE + PREDICT_POINTS],testPredict, 'b')\n",
    "plt.show()"
   ]
  }
 ],
 "metadata": {
  "kernelspec": {
   "display_name": "Python 3",
   "language": "python",
   "name": "python3"
  },
  "language_info": {
   "codemirror_mode": {
    "name": "ipython",
    "version": 3
   },
   "file_extension": ".py",
   "mimetype": "text/x-python",
   "name": "python",
   "nbconvert_exporter": "python",
   "pygments_lexer": "ipython3",
   "version": "3.7.1"
  }
 },
 "nbformat": 4,
 "nbformat_minor": 4
}
