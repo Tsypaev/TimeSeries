{
 "cells": [
  {
   "cell_type": "markdown",
   "metadata": {},
   "source": [
    "Требуется построить одномерный временной ряд, отражающий зависимость итоговой стоимости билетов (**Ticket cost**) от числа дней между датами вылета и заказа ({**Flight Date - Sale Data**} в днях)."
   ]
  },
  {
   "cell_type": "code",
   "execution_count": 2,
   "metadata": {},
   "outputs": [],
   "source": [
    "import numpy as np\n",
    "import numpy.random as rand\n",
    "import matplotlib.pyplot as plt\n",
    "import pandas as pd\n",
    "%matplotlib inline"
   ]
  },
  {
   "cell_type": "markdown",
   "metadata": {},
   "source": [
    "## Load df"
   ]
  },
  {
   "cell_type": "code",
   "execution_count": 3,
   "metadata": {},
   "outputs": [
    {
     "ename": "FileNotFoundError",
     "evalue": "[Errno 2] No such file or directory: 'airline_flights_data_ord.xlsx'",
     "output_type": "error",
     "traceback": [
      "\u001b[1;31m---------------------------------------------------------------------------\u001b[0m",
      "\u001b[1;31mFileNotFoundError\u001b[0m                         Traceback (most recent call last)",
      "\u001b[1;32m<ipython-input-3-91bc3c77aa29>\u001b[0m in \u001b[0;36m<module>\u001b[1;34m\u001b[0m\n\u001b[1;32m----> 1\u001b[1;33m \u001b[0mdf\u001b[0m \u001b[1;33m=\u001b[0m \u001b[0mpd\u001b[0m\u001b[1;33m.\u001b[0m\u001b[0mread_excel\u001b[0m\u001b[1;33m(\u001b[0m\u001b[1;34m\"airline_flights_data_ord.xlsx\"\u001b[0m\u001b[1;33m,\u001b[0m \u001b[0mheader\u001b[0m\u001b[1;33m=\u001b[0m\u001b[1;36m1\u001b[0m\u001b[1;33m)\u001b[0m\u001b[1;33m.\u001b[0m\u001b[0mdropna\u001b[0m\u001b[1;33m(\u001b[0m\u001b[0maxis\u001b[0m\u001b[1;33m=\u001b[0m\u001b[1;36m1\u001b[0m\u001b[1;33m,\u001b[0m \u001b[0mhow\u001b[0m\u001b[1;33m=\u001b[0m\u001b[1;34m'all'\u001b[0m\u001b[1;33m)\u001b[0m\u001b[1;33m\u001b[0m\u001b[1;33m\u001b[0m\u001b[0m\n\u001b[0m",
      "\u001b[1;32m~\\AppData\\Local\\Continuum\\anaconda3\\lib\\site-packages\\pandas\\util\\_decorators.py\u001b[0m in \u001b[0;36mwrapper\u001b[1;34m(*args, **kwargs)\u001b[0m\n\u001b[0;32m    176\u001b[0m                 \u001b[1;32melse\u001b[0m\u001b[1;33m:\u001b[0m\u001b[1;33m\u001b[0m\u001b[1;33m\u001b[0m\u001b[0m\n\u001b[0;32m    177\u001b[0m                     \u001b[0mkwargs\u001b[0m\u001b[1;33m[\u001b[0m\u001b[0mnew_arg_name\u001b[0m\u001b[1;33m]\u001b[0m \u001b[1;33m=\u001b[0m \u001b[0mnew_arg_value\u001b[0m\u001b[1;33m\u001b[0m\u001b[1;33m\u001b[0m\u001b[0m\n\u001b[1;32m--> 178\u001b[1;33m             \u001b[1;32mreturn\u001b[0m \u001b[0mfunc\u001b[0m\u001b[1;33m(\u001b[0m\u001b[1;33m*\u001b[0m\u001b[0margs\u001b[0m\u001b[1;33m,\u001b[0m \u001b[1;33m**\u001b[0m\u001b[0mkwargs\u001b[0m\u001b[1;33m)\u001b[0m\u001b[1;33m\u001b[0m\u001b[1;33m\u001b[0m\u001b[0m\n\u001b[0m\u001b[0;32m    179\u001b[0m         \u001b[1;32mreturn\u001b[0m \u001b[0mwrapper\u001b[0m\u001b[1;33m\u001b[0m\u001b[1;33m\u001b[0m\u001b[0m\n\u001b[0;32m    180\u001b[0m     \u001b[1;32mreturn\u001b[0m \u001b[0m_deprecate_kwarg\u001b[0m\u001b[1;33m\u001b[0m\u001b[1;33m\u001b[0m\u001b[0m\n",
      "\u001b[1;32m~\\AppData\\Local\\Continuum\\anaconda3\\lib\\site-packages\\pandas\\util\\_decorators.py\u001b[0m in \u001b[0;36mwrapper\u001b[1;34m(*args, **kwargs)\u001b[0m\n\u001b[0;32m    176\u001b[0m                 \u001b[1;32melse\u001b[0m\u001b[1;33m:\u001b[0m\u001b[1;33m\u001b[0m\u001b[1;33m\u001b[0m\u001b[0m\n\u001b[0;32m    177\u001b[0m                     \u001b[0mkwargs\u001b[0m\u001b[1;33m[\u001b[0m\u001b[0mnew_arg_name\u001b[0m\u001b[1;33m]\u001b[0m \u001b[1;33m=\u001b[0m \u001b[0mnew_arg_value\u001b[0m\u001b[1;33m\u001b[0m\u001b[1;33m\u001b[0m\u001b[0m\n\u001b[1;32m--> 178\u001b[1;33m             \u001b[1;32mreturn\u001b[0m \u001b[0mfunc\u001b[0m\u001b[1;33m(\u001b[0m\u001b[1;33m*\u001b[0m\u001b[0margs\u001b[0m\u001b[1;33m,\u001b[0m \u001b[1;33m**\u001b[0m\u001b[0mkwargs\u001b[0m\u001b[1;33m)\u001b[0m\u001b[1;33m\u001b[0m\u001b[1;33m\u001b[0m\u001b[0m\n\u001b[0m\u001b[0;32m    179\u001b[0m         \u001b[1;32mreturn\u001b[0m \u001b[0mwrapper\u001b[0m\u001b[1;33m\u001b[0m\u001b[1;33m\u001b[0m\u001b[0m\n\u001b[0;32m    180\u001b[0m     \u001b[1;32mreturn\u001b[0m \u001b[0m_deprecate_kwarg\u001b[0m\u001b[1;33m\u001b[0m\u001b[1;33m\u001b[0m\u001b[0m\n",
      "\u001b[1;32m~\\AppData\\Local\\Continuum\\anaconda3\\lib\\site-packages\\pandas\\io\\excel.py\u001b[0m in \u001b[0;36mread_excel\u001b[1;34m(io, sheet_name, header, names, index_col, usecols, squeeze, dtype, engine, converters, true_values, false_values, skiprows, nrows, na_values, parse_dates, date_parser, thousands, comment, skipfooter, convert_float, **kwds)\u001b[0m\n\u001b[0;32m    305\u001b[0m \u001b[1;33m\u001b[0m\u001b[0m\n\u001b[0;32m    306\u001b[0m     \u001b[1;32mif\u001b[0m \u001b[1;32mnot\u001b[0m \u001b[0misinstance\u001b[0m\u001b[1;33m(\u001b[0m\u001b[0mio\u001b[0m\u001b[1;33m,\u001b[0m \u001b[0mExcelFile\u001b[0m\u001b[1;33m)\u001b[0m\u001b[1;33m:\u001b[0m\u001b[1;33m\u001b[0m\u001b[1;33m\u001b[0m\u001b[0m\n\u001b[1;32m--> 307\u001b[1;33m         \u001b[0mio\u001b[0m \u001b[1;33m=\u001b[0m \u001b[0mExcelFile\u001b[0m\u001b[1;33m(\u001b[0m\u001b[0mio\u001b[0m\u001b[1;33m,\u001b[0m \u001b[0mengine\u001b[0m\u001b[1;33m=\u001b[0m\u001b[0mengine\u001b[0m\u001b[1;33m)\u001b[0m\u001b[1;33m\u001b[0m\u001b[1;33m\u001b[0m\u001b[0m\n\u001b[0m\u001b[0;32m    308\u001b[0m \u001b[1;33m\u001b[0m\u001b[0m\n\u001b[0;32m    309\u001b[0m     return io.parse(\n",
      "\u001b[1;32m~\\AppData\\Local\\Continuum\\anaconda3\\lib\\site-packages\\pandas\\io\\excel.py\u001b[0m in \u001b[0;36m__init__\u001b[1;34m(self, io, **kwds)\u001b[0m\n\u001b[0;32m    392\u001b[0m             \u001b[0mself\u001b[0m\u001b[1;33m.\u001b[0m\u001b[0mbook\u001b[0m \u001b[1;33m=\u001b[0m \u001b[0mxlrd\u001b[0m\u001b[1;33m.\u001b[0m\u001b[0mopen_workbook\u001b[0m\u001b[1;33m(\u001b[0m\u001b[0mfile_contents\u001b[0m\u001b[1;33m=\u001b[0m\u001b[0mdata\u001b[0m\u001b[1;33m)\u001b[0m\u001b[1;33m\u001b[0m\u001b[1;33m\u001b[0m\u001b[0m\n\u001b[0;32m    393\u001b[0m         \u001b[1;32melif\u001b[0m \u001b[0misinstance\u001b[0m\u001b[1;33m(\u001b[0m\u001b[0mself\u001b[0m\u001b[1;33m.\u001b[0m\u001b[0m_io\u001b[0m\u001b[1;33m,\u001b[0m \u001b[0mcompat\u001b[0m\u001b[1;33m.\u001b[0m\u001b[0mstring_types\u001b[0m\u001b[1;33m)\u001b[0m\u001b[1;33m:\u001b[0m\u001b[1;33m\u001b[0m\u001b[1;33m\u001b[0m\u001b[0m\n\u001b[1;32m--> 394\u001b[1;33m             \u001b[0mself\u001b[0m\u001b[1;33m.\u001b[0m\u001b[0mbook\u001b[0m \u001b[1;33m=\u001b[0m \u001b[0mxlrd\u001b[0m\u001b[1;33m.\u001b[0m\u001b[0mopen_workbook\u001b[0m\u001b[1;33m(\u001b[0m\u001b[0mself\u001b[0m\u001b[1;33m.\u001b[0m\u001b[0m_io\u001b[0m\u001b[1;33m)\u001b[0m\u001b[1;33m\u001b[0m\u001b[1;33m\u001b[0m\u001b[0m\n\u001b[0m\u001b[0;32m    395\u001b[0m         \u001b[1;32melse\u001b[0m\u001b[1;33m:\u001b[0m\u001b[1;33m\u001b[0m\u001b[1;33m\u001b[0m\u001b[0m\n\u001b[0;32m    396\u001b[0m             raise ValueError('Must explicitly set engine if not passing in'\n",
      "\u001b[1;32m~\\AppData\\Local\\Continuum\\anaconda3\\lib\\site-packages\\xlrd\\__init__.py\u001b[0m in \u001b[0;36mopen_workbook\u001b[1;34m(filename, logfile, verbosity, use_mmap, file_contents, encoding_override, formatting_info, on_demand, ragged_rows)\u001b[0m\n\u001b[0;32m    109\u001b[0m     \u001b[1;32melse\u001b[0m\u001b[1;33m:\u001b[0m\u001b[1;33m\u001b[0m\u001b[1;33m\u001b[0m\u001b[0m\n\u001b[0;32m    110\u001b[0m         \u001b[0mfilename\u001b[0m \u001b[1;33m=\u001b[0m \u001b[0mos\u001b[0m\u001b[1;33m.\u001b[0m\u001b[0mpath\u001b[0m\u001b[1;33m.\u001b[0m\u001b[0mexpanduser\u001b[0m\u001b[1;33m(\u001b[0m\u001b[0mfilename\u001b[0m\u001b[1;33m)\u001b[0m\u001b[1;33m\u001b[0m\u001b[1;33m\u001b[0m\u001b[0m\n\u001b[1;32m--> 111\u001b[1;33m         \u001b[1;32mwith\u001b[0m \u001b[0mopen\u001b[0m\u001b[1;33m(\u001b[0m\u001b[0mfilename\u001b[0m\u001b[1;33m,\u001b[0m \u001b[1;34m\"rb\"\u001b[0m\u001b[1;33m)\u001b[0m \u001b[1;32mas\u001b[0m \u001b[0mf\u001b[0m\u001b[1;33m:\u001b[0m\u001b[1;33m\u001b[0m\u001b[1;33m\u001b[0m\u001b[0m\n\u001b[0m\u001b[0;32m    112\u001b[0m             \u001b[0mpeek\u001b[0m \u001b[1;33m=\u001b[0m \u001b[0mf\u001b[0m\u001b[1;33m.\u001b[0m\u001b[0mread\u001b[0m\u001b[1;33m(\u001b[0m\u001b[0mpeeksz\u001b[0m\u001b[1;33m)\u001b[0m\u001b[1;33m\u001b[0m\u001b[1;33m\u001b[0m\u001b[0m\n\u001b[0;32m    113\u001b[0m     \u001b[1;32mif\u001b[0m \u001b[0mpeek\u001b[0m \u001b[1;33m==\u001b[0m \u001b[1;34mb\"PK\\x03\\x04\"\u001b[0m\u001b[1;33m:\u001b[0m \u001b[1;31m# a ZIP file\u001b[0m\u001b[1;33m\u001b[0m\u001b[1;33m\u001b[0m\u001b[0m\n",
      "\u001b[1;31mFileNotFoundError\u001b[0m: [Errno 2] No such file or directory: 'airline_flights_data_ord.xlsx'"
     ]
    }
   ],
   "source": [
    "df = pd.read_excel(\"airline_flights_data_ord.xlsx\", header=1).dropna(axis=1, how='all')"
   ]
  },
  {
   "cell_type": "code",
   "execution_count": null,
   "metadata": {
    "scrolled": true
   },
   "outputs": [],
   "source": [
    "df.head()"
   ]
  },
  {
   "cell_type": "code",
   "execution_count": null,
   "metadata": {},
   "outputs": [],
   "source": [
    "df[\"flight_sale_diff\"] = df[\"Flight date\"] - df[\"Sale Date\"]\n",
    "df[\"flight_sale_diff_days\"] = df.apply(lambda x: x[\"flight_sale_diff\"].days, axis=1)"
   ]
  },
  {
   "cell_type": "code",
   "execution_count": null,
   "metadata": {},
   "outputs": [],
   "source": [
    "df.head()"
   ]
  },
  {
   "cell_type": "code",
   "execution_count": null,
   "metadata": {},
   "outputs": [],
   "source": [
    "df.describe()"
   ]
  },
  {
   "cell_type": "markdown",
   "metadata": {},
   "source": [
    "### Plot"
   ]
  },
  {
   "cell_type": "markdown",
   "metadata": {},
   "source": [
    "Постройте точки стоимости билетов от числа дней между датами вылета и заказа (не забудьте их отмасштабировать):"
   ]
  },
  {
   "cell_type": "code",
   "execution_count": null,
   "metadata": {},
   "outputs": [],
   "source": [
    "plt.figure(figsize=(20,10));\n",
    "plt.scatter(df[\"flight_sale_diff_days\"], df[\"Ticket cost\"]);\n",
    "plt.xlim(xmin=-1, xmax=220);\n",
    "plt.ylim(ymin=0, ymax=700);"
   ]
  },
  {
   "cell_type": "markdown",
   "metadata": {},
   "source": [
    "## Filter"
   ]
  },
  {
   "cell_type": "markdown",
   "metadata": {},
   "source": [
    "Удалите следующие точки:\n",
    "- все билеты, для которых столбец Sum равен 0 (отмененные заказы);\n",
    "- все билеты, стоимость которых выше 1000 \\$ (слишком дорого);\n",
    "- все билеты, стоимость которых ниже 30$ (подозрительно дешево);\n",
    "- а еще точки с NaN и билеты, которые купили очень мало людей в определенный срок (например, когда число дней между датами вылета и заказа {Flight Date - Sale Data} равно 111 и 124, где зафиксирована всего одна непрезентативная покупка), так как они тоже являются аномалиями для данной многомерной выборки."
   ]
  },
  {
   "cell_type": "code",
   "execution_count": null,
   "metadata": {},
   "outputs": [],
   "source": [
    "df_filtered = df[df[\"Sum $\"] > 0]  # все билеты, для которых столбец Sum равен 0\n",
    "df_filtered = df_filtered[df_filtered[\"Ticket cost\"] <= 1000] # все билеты, стоимость которых выше 1000\n",
    "df_filtered = df_filtered[df_filtered[\"Ticket cost\"] >= 30] # все билеты, стоимость которых ниже 30$\n",
    "df_filtered = df_filtered[~df_filtered[\"flight_sale_diff_days\"].isnull()]\n",
    "df_filtered = df_filtered[~df_filtered[\"Ticket cost\"].isnull()]\n",
    "df_filtered = df_filtered[(df_filtered[\"flight_sale_diff_days\"] != 111) & (df_filtered[\"flight_sale_diff_days\"] != 124)]\n",
    "\n",
    "df_filtered.head()"
   ]
  },
  {
   "cell_type": "code",
   "execution_count": null,
   "metadata": {
    "scrolled": true
   },
   "outputs": [],
   "source": [
    "df_filtered.describe()"
   ]
  },
  {
   "cell_type": "markdown",
   "metadata": {},
   "source": [
    "### Plot"
   ]
  },
  {
   "cell_type": "code",
   "execution_count": null,
   "metadata": {},
   "outputs": [],
   "source": [
    "plt.figure(figsize=(20,10));\n",
    "plt.scatter(df_filtered[\"flight_sale_diff_days\"], df_filtered[\"Ticket cost\"]);\n",
    "plt.xlim(xmin=-1, xmax=220);\n",
    "plt.ylim(ymin=0, ymax=800);"
   ]
  },
  {
   "cell_type": "markdown",
   "metadata": {},
   "source": [
    "Для простоты дальнейших вычислений удалите также точки стоимости билетов со сроками покупки больше 148 дней, так как после этого срока точки покупок встречаются очень редко и их можно считать выбивающимися из общей зависимости (недостаточными для статистики)."
   ]
  },
  {
   "cell_type": "code",
   "execution_count": null,
   "metadata": {},
   "outputs": [],
   "source": [
    "df_filtered_2 = df_filtered[df_filtered[\"flight_sale_diff_days\"] <= 148]"
   ]
  },
  {
   "cell_type": "markdown",
   "metadata": {},
   "source": [
    "## Mean()"
   ]
  },
  {
   "cell_type": "markdown",
   "metadata": {},
   "source": [
    "Попробуем построить из этого множества точек одномерный временной ряд стоимости билетов от числа предварительных дней до покупки. \n",
    "\n",
    "Первое, что можно сделать – это просто посчитать среднее значение стоимости билетов для каждого дня, то есть  посчитать функцию **mean()** от каждого массива стоимости билетов в каждой временной точке."
   ]
  },
  {
   "cell_type": "code",
   "execution_count": null,
   "metadata": {},
   "outputs": [],
   "source": [
    "x = df_filtered_2[\"flight_sale_diff_days\"]\n",
    "y = df_filtered_2[\"Ticket cost\"]\n",
    "\n",
    "x_mean, y_mean = zip(*sorted((x_val, np.mean([y_val for a, y_val in zip(x, y) if x_val==a])) for x_val in set(x)))"
   ]
  },
  {
   "cell_type": "code",
   "execution_count": null,
   "metadata": {},
   "outputs": [],
   "source": [
    "y_smooth = smooth(y_mean, 50)"
   ]
  },
  {
   "cell_type": "code",
   "execution_count": null,
   "metadata": {},
   "outputs": [],
   "source": [
    "def smooth(x, window_len):\n",
    "    if window_len<3:\n",
    "        return x\n",
    "    s=np.r_[2*x[0]-x[window_len-1::-1], x, 2*x[-1]-x[-1:-window_len:-1]]\n",
    "    w=np.ones(window_len, 'd')\n",
    "    y=np.convolve(w/w.sum(), s, mode='same')\n",
    "    return y[window_len:-window_len+1]"
   ]
  },
  {
   "cell_type": "code",
   "execution_count": null,
   "metadata": {},
   "outputs": [],
   "source": [
    "plt.figure(figsize=(20,10));\n",
    "plt.scatter(df_filtered_2[\"flight_sale_diff_days\"], df_filtered_2[\"Ticket cost\"]);\n",
    "plt.plot(x_mean, y_mean, color='r');\n",
    "plt.plot(x_mean, y_smooth, color='k');\n",
    "plt.xlim(xmin=-1, xmax=150);\n",
    "plt.ylim(ymin=0, ymax=700);"
   ]
  },
  {
   "cell_type": "markdown",
   "metadata": {},
   "source": [
    "## Median() & STD"
   ]
  },
  {
   "cell_type": "markdown",
   "metadata": {},
   "source": [
    "Во-первых, стоимость билетов принимает некоторые явные значения из множества, нежели «абстрактные» средние величины, поэтому более верным будет построить график расчета медианы median() от времени"
   ]
  },
  {
   "cell_type": "code",
   "execution_count": null,
   "metadata": {},
   "outputs": [],
   "source": [
    "x_median, y_median = zip(*sorted((x_val, np.median([y_val for a, y_val in zip(x, y) if x_val==a])) for x_val in set(x)))"
   ]
  },
  {
   "cell_type": "code",
   "execution_count": null,
   "metadata": {
    "scrolled": false
   },
   "outputs": [],
   "source": [
    "y_median_smooth = smooth(y_median, 50)\n",
    "\n",
    "plt.figure(figsize=(20,10));\n",
    "plt.scatter(df_filtered_2[\"flight_sale_diff_days\"], df_filtered_2[\"Ticket cost\"]);\n",
    "plt.plot(x_median, y_median, color='r');\n",
    "plt.plot(x_median, y_smooth, color='k');\n",
    "plt.xlim(xmin=-1, xmax=150);\n",
    "plt.ylim(ymin=0, ymax=700);"
   ]
  },
  {
   "cell_type": "markdown",
   "metadata": {},
   "source": [
    "Во-вторых, функция среднего значения есть дискретная форма мат. ожидания только для стационарных и эргодических случайных величин (здесь случайная величина = стоимость билетов). Ни то ни другое условие здесь явно не выполняется, а значит построенные кривые демонстрируют стоимость билетов от числа предварительных дней, как если бы стоимость их была бы равномерно разбросана в каждом временном отсчете (это явно не так).\n",
    "\n",
    "В-третьих, нас интересует усредненный прогноз цен на авиабилеты от числа предварительных дней между их датами покупки и вылета, а у прогноза еще есть такое понятие, как доверительный интервал. То есть, кроме средних цен на билеты нас интересует в каком диапазоне цены разбросаны вообще, а этого простым вычислением среднего уже не посчитать. Вообще-то, есть еще дисперсия или СКВО, но см. проблему №2 выше.\n",
    "\n",
    "**Постройте** подобные оценочные интервалы (среднее ± 1.65*std(), со сглаживанием) самостоятельно."
   ]
  },
  {
   "cell_type": "code",
   "execution_count": null,
   "metadata": {},
   "outputs": [],
   "source": [
    "x_std, y_std = zip(*sorted((x_val, np.std([y_val for a, y_val in zip(x, y) if x_val==a])) for x_val in set(x)))"
   ]
  },
  {
   "cell_type": "code",
   "execution_count": null,
   "metadata": {},
   "outputs": [],
   "source": [
    "y_mean_std_plus = y_mean + np.array(y_std) * 1.65\n",
    "y_mean_std_minus = y_mean - np.array(y_std) * 1.65"
   ]
  },
  {
   "cell_type": "code",
   "execution_count": null,
   "metadata": {},
   "outputs": [],
   "source": [
    "y_smooth_plus = smooth(y_mean_std_plus, 50)\n",
    "y_smooth_minus = smooth(y_mean_std_minus, 50)\n",
    "\n",
    "plt.figure(figsize=(20,10));\n",
    "plt.scatter(df_filtered_2[\"flight_sale_diff_days\"], df_filtered_2[\"Ticket cost\"]);\n",
    "plt.plot(x_std, y_smooth_plus, color='r');\n",
    "plt.plot(x_std, y_smooth_minus, color='k');\n",
    "plt.xlim(xmin=-1, xmax=150);\n",
    "plt.ylim(ymin=0, ymax=700);"
   ]
  },
  {
   "cell_type": "markdown",
   "metadata": {},
   "source": [
    "## Scipy"
   ]
  },
  {
   "cell_type": "markdown",
   "metadata": {},
   "source": [
    "Для решения всех указанных проблем используется более научная методика. Пусть каждый набор точек (стоимости билетов) в каждом временном отсчете (число дней) есть выборка некоторой случайной величины. Если это случайная величина – у нее есть функция распределения (плотность), благодаря которой можно оценить ее мат. ожидание = 50%-перцентиль (средняя стоимость билета) и доверительные интервалы = 5%-перцентиль и 95%-перцентиль (разброс стоимости билетов по дням). \n",
    "\n",
    "Значит, самое главное – построить плотность функции распределения для этой неизвестной случайной величины стоимости билета. Для этого в Python есть библиотека **scipy.stats**."
   ]
  },
  {
   "cell_type": "code",
   "execution_count": null,
   "metadata": {},
   "outputs": [],
   "source": [
    "import scipy.stats as st\n",
    "\n",
    "# distribution.fit(data) и distribution.pdf(x)."
   ]
  },
  {
   "cell_type": "code",
   "execution_count": null,
   "metadata": {},
   "outputs": [],
   "source": [
    "dist = st.norm"
   ]
  },
  {
   "cell_type": "markdown",
   "metadata": {},
   "source": [
    "Для начала попробуйте сопоставить гистограмму стоимости билетов, например, для разности дат = 7 дней, с плотностью нормального распределения с найденными параметрами."
   ]
  },
  {
   "cell_type": "code",
   "execution_count": null,
   "metadata": {},
   "outputs": [],
   "source": [
    "data = df_filtered_2[df_filtered.flight_sale_diff_days == 7][\"Ticket cost\"].values\n",
    "params = dist.fit(data)"
   ]
  },
  {
   "cell_type": "code",
   "execution_count": null,
   "metadata": {},
   "outputs": [],
   "source": [
    "y, x = np.histogram(data, bins='auto', density=True)\n",
    "pdf_fitted = dist.pdf(x, *params[:-2], loc=params[-2], scale=params[-1])"
   ]
  },
  {
   "cell_type": "markdown",
   "metadata": {},
   "source": [
    "И постройте гистограмму и полученную кривую на одном рисунке."
   ]
  },
  {
   "cell_type": "code",
   "execution_count": null,
   "metadata": {},
   "outputs": [],
   "source": [
    "y, x = np.histogram(data, bins='auto', density=True)\n",
    "pdf_fitted = dist.pdf(x, *params[:-2], loc=params[-2], scale=params[-1])\n",
    "\n",
    "plt.plot(x, pdf_fitted, color='red');\n",
    "_, _, _ = plt.hist(data, bins='auto', density=True, color='white', ec=\"blue\");"
   ]
  },
  {
   "cell_type": "markdown",
   "metadata": {},
   "source": [
    "Аналогичным образом найдите функции плотности нормального распределения для всех временных точек (дней), но без построения\n",
    "гистограмм/кривых. Возможно, не все точки в принципе возможно подогнать под нормальное распределение, и тогда Python будет\n",
    "выдавать предупреждения (warning), но пока что их можно игнорировать."
   ]
  },
  {
   "cell_type": "code",
   "execution_count": null,
   "metadata": {},
   "outputs": [],
   "source": [
    "def norm_dense(days):\n",
    "    data = df_filtered_2[df_filtered.flight_sale_diff_days == days][\"Ticket cost\"].values\n",
    "    if len(data) == 0:\n",
    "        return None\n",
    "    params = dist.fit(data)\n",
    "    return params"
   ]
  },
  {
   "cell_type": "code",
   "execution_count": null,
   "metadata": {},
   "outputs": [],
   "source": [
    "days_pdf = list()\n",
    "\n",
    "for days in range(0, 149):\n",
    "    days_pdf.append(norm_dense(days))"
   ]
  },
  {
   "cell_type": "markdown",
   "metadata": {},
   "source": [
    "Чтобы рассчитать значение перцентилей для найденных распределений в Scipy есть функция **ppf()**"
   ]
  },
  {
   "cell_type": "markdown",
   "metadata": {},
   "source": [
    "Найдите 5%, 50% и 95%-перцентили для нормального распределения для всех заданных временных точек и постройте полученные значения на исходном графике соотношения цен на билеты."
   ]
  },
  {
   "cell_type": "code",
   "execution_count": null,
   "metadata": {
    "scrolled": false
   },
   "outputs": [],
   "source": [
    "pp05_list = list()\n",
    "pp50_list = list()\n",
    "pp95_list = list()\n",
    "\n",
    "for params in days_pdf:\n",
    "    if params:\n",
    "        # 5%-перцентиль (нижний доверительный интервал)\n",
    "        pp05 = dist.ppf(0.05, *params[:-2], loc=params[-2], scale=params[-1])\n",
    "        pp05_list.append(pp05)\n",
    "\n",
    "        # 50%-перцентиль (средний прогноз)\n",
    "        pp50 = dist.ppf(0.50, *params[:-2], loc=params[-2], scale=params[-1])\n",
    "        pp50_list.append(pp50)\n",
    "\n",
    "        # 95%-перцентиль (верхний доверительный интервал)\n",
    "        pp95 = dist.ppf(0.95, *params[:-2], loc=params[-2], scale=params[-1])\n",
    "        pp95_list.append(pp95)"
   ]
  },
  {
   "cell_type": "code",
   "execution_count": null,
   "metadata": {
    "scrolled": false
   },
   "outputs": [],
   "source": [
    "plt.figure(figsize=(20,10));\n",
    "plt.scatter(df_filtered_2[\"flight_sale_diff_days\"], df_filtered_2[\"Ticket cost\"]);\n",
    "plt.plot(x_mean, pp05_list, color='k');\n",
    "plt.plot(x_mean, pp50_list, color='r');\n",
    "plt.plot(x_mean, pp95_list, color='k');\n",
    "plt.xlim(xmin=-1, xmax=150);\n",
    "plt.ylim(ymin=0, ymax=700);"
   ]
  },
  {
   "cell_type": "markdown",
   "metadata": {},
   "source": [
    "Сгладьте полученные кривые."
   ]
  },
  {
   "cell_type": "code",
   "execution_count": null,
   "metadata": {},
   "outputs": [],
   "source": [
    "pp05_smooth = smooth(pp05_list, 50)\n",
    "pp50_smooth = smooth(pp50_list, 50)\n",
    "pp95_smooth = smooth(pp95_list, 50)"
   ]
  },
  {
   "cell_type": "markdown",
   "metadata": {},
   "source": [
    "## Ядро (kernel)"
   ]
  },
  {
   "cell_type": "code",
   "execution_count": null,
   "metadata": {},
   "outputs": [],
   "source": [
    "from scipy.stats import gaussian_kde"
   ]
  },
  {
   "cell_type": "code",
   "execution_count": null,
   "metadata": {},
   "outputs": [],
   "source": [
    "kde = gaussian_kde(x.ravel()) # строим оценку\n",
    "# plt.plot(kde.pdf(np.linspace(x.min(), x.max(), x.size)))\n",
    "\n",
    "# функция распределения в границах случайной величины"
   ]
  },
  {
   "cell_type": "markdown",
   "metadata": {},
   "source": [
    "Осталось оценить нужные нам перцентили:"
   ]
  },
  {
   "cell_type": "code",
   "execution_count": null,
   "metadata": {},
   "outputs": [],
   "source": [
    "def kde_perc(ikde, low, high, n, perc=0.50):\n",
    "    for i in np.linspace(low, high, n)[1:]: # от нижней до верхней границы\n",
    "        F = ikde.integrate_box_1d(low, i) # интеграл плотности\n",
    "        if F > perc: # чуть выше границы суммы\n",
    "            return i # есть искомое значение"
   ]
  },
  {
   "cell_type": "code",
   "execution_count": null,
   "metadata": {},
   "outputs": [],
   "source": [
    "# kde_perc(kde, x.min(), x.max(), x.size, 0.05) # 05%-перцентиль\n",
    "# kde_perc(kde, x.min(), x.max(), x.size, 0.50) # 50%-перцентиль\n",
    "# kde_perc(kde, x.min(), x.max(), x.size, 0.95) # 95%-перцентиль"
   ]
  },
  {
   "cell_type": "code",
   "execution_count": null,
   "metadata": {},
   "outputs": [],
   "source": [
    "kde_05_list = list()\n",
    "kde_50_list = list()\n",
    "kde_95_list = list()\n",
    "\n",
    "for value in x_mean:\n",
    "    x = df_filtered[df_filtered.flight_sale_diff_days == value][\"Ticket cost\"]\n",
    "    kde = gaussian_kde(x) # строим оценку\n",
    "    \n",
    "    kde_05 = kde_perc(kde, x.min(), x.max(), x.size, 0.05)\n",
    "    kde_50 = kde_perc(kde, x.min(), x.max(), x.size, 0.50)\n",
    "    kde_95 = kde_perc(kde, x.min(), x.max(), x.size, 0.95)\n",
    "    \n",
    "    kde_05_list.append(kde_05)\n",
    "    kde_50_list.append(kde_50)\n",
    "    kde_95_list.append(kde_95)"
   ]
  },
  {
   "cell_type": "code",
   "execution_count": null,
   "metadata": {},
   "outputs": [],
   "source": [
    "kde_50_list_2 = []\n",
    "\n",
    "for index, kde in enumerate(kde_50_list):\n",
    "    if kde is not None:\n",
    "        kde_50_list_2.append(kde)\n",
    "    else:\n",
    "        kde_50_list_2.append(y_median[index])"
   ]
  },
  {
   "cell_type": "markdown",
   "metadata": {},
   "source": [
    "Теперь, если найти непараметрические распределения стоимости билетов для каждой временной точки и затем для них нужные\n",
    "перцентили, то получится график:"
   ]
  },
  {
   "cell_type": "code",
   "execution_count": null,
   "metadata": {
    "scrolled": false
   },
   "outputs": [],
   "source": [
    "plt.figure(figsize=(20,10));\n",
    "plt.scatter(df_filtered_2[\"flight_sale_diff_days\"], df_filtered_2[\"Ticket cost\"]);\n",
    "plt.plot(x_mean, kde_05_list, color='k');\n",
    "plt.plot(x_mean, kde_50_list_2, color='r');\n",
    "plt.plot(x_mean, kde_95_list, color='k');\n",
    "plt.xlim(xmin=-1, xmax=150);\n",
    "plt.ylim(ymin=0, ymax=700);"
   ]
  },
  {
   "cell_type": "code",
   "execution_count": null,
   "metadata": {},
   "outputs": [],
   "source": [
    "x = df_filtered_2[\"flight_sale_diff_days\"].values\n",
    "y = df_filtered_2[\"Ticket cost\"].values\n",
    "\n",
    "x_median, y_median = zip(*sorted((x_val, np.median([y_val for a, y_val in zip(x, y) if x_val==a])) for x_val in set(x)))\n",
    "x_std, y_std = zip(*sorted((x_val, np.std([y_val for a, y_val in zip(x, y) if x_val==a])) for x_val in set(x)))"
   ]
  },
  {
   "cell_type": "code",
   "execution_count": null,
   "metadata": {},
   "outputs": [],
   "source": [
    "perc_05_list = list()\n",
    "perc_50_list = list()\n",
    "perc_95_list = list()\n",
    "\n",
    "for value in x_mean:\n",
    "    x = df_filtered[df_filtered.flight_sale_diff_days == value][\"Ticket cost\"]\n",
    "    kde = gaussian_kde(x) # строим оценку\n",
    "    \n",
    "    perc_05 = np.percentile(x, 5)\n",
    "    perc_50 = np.percentile(x, 50)\n",
    "    perc_95 = np.percentile(x, 95)\n",
    "    \n",
    "    perc_05_list.append(perc_05)\n",
    "    perc_50_list.append(perc_50)\n",
    "    perc_95_list.append(perc_95)"
   ]
  },
  {
   "cell_type": "code",
   "execution_count": null,
   "metadata": {},
   "outputs": [],
   "source": [
    "plt.figure(figsize=(20,10));\n",
    "plt.scatter(df_filtered_2[\"flight_sale_diff_days\"], df_filtered_2[\"Ticket cost\"]);\n",
    "\n",
    "# параметрический\n",
    "plt.plot(x_mean, pp05_smooth, color='k');\n",
    "plt.plot(x_mean, pp50_smooth, color='k');\n",
    "plt.plot(x_mean, pp95_smooth, color='k');\n",
    "\n",
    "# непараметрический\n",
    "plt.plot(x_mean, smooth(np.array(kde_50_list_2) + np.array(y_std) * 1.65, 50), color='g');\n",
    "plt.plot(x_mean, smooth(np.array(kde_50_list_2) - np.array(y_std) * 1.65, 50), color='g');\n",
    "plt.plot(x_mean, smooth(np.array(kde_50_list_2), 50), color='g');\n",
    "\n",
    "# медиана\n",
    "plt.plot(x_mean, smooth(perc_05_list, 50), color='r');\n",
    "plt.plot(x_mean, smooth(perc_50_list, 50), color='r');\n",
    "plt.plot(x_mean, smooth(perc_95_list, 50), color='r');"
   ]
  }
 ],
 "metadata": {
  "kernelspec": {
   "display_name": "Python 3",
   "language": "python",
   "name": "python3"
  },
  "language_info": {
   "codemirror_mode": {
    "name": "ipython",
    "version": 3
   },
   "file_extension": ".py",
   "mimetype": "text/x-python",
   "name": "python",
   "nbconvert_exporter": "python",
   "pygments_lexer": "ipython3",
   "version": "3.7.1"
  }
 },
 "nbformat": 4,
 "nbformat_minor": 2
}
